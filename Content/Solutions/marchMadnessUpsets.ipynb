{
  "nbformat": 4,
  "nbformat_minor": 0,
  "metadata": {
    "colab": {
      "provenance": [],
      "include_colab_link": true
    },
    "kernelspec": {
      "name": "python3",
      "display_name": "Python 3"
    },
    "language_info": {
      "name": "python"
    }
  },
  "cells": [
    {
      "cell_type": "markdown",
      "metadata": {
        "id": "view-in-github",
        "colab_type": "text"
      },
      "source": [
        "<a href=\"https://colab.research.google.com/github/camdenlol/Data_Viz/blob/main/Content/Solutions/marchMadnessUpsets.ipynb\" target=\"_parent\"><img src=\"https://colab.research.google.com/assets/colab-badge.svg\" alt=\"Open In Colab\"/></a>"
      ]
    },
    {
      "cell_type": "code",
      "execution_count": null,
      "metadata": {
        "id": "U5UkZQjLJ1ol",
        "colab": {
          "base_uri": "https://localhost:8080/"
        },
        "outputId": "ce056e8c-ae22-4be5-f183-c54daee32110"
      },
      "outputs": [
        {
          "output_type": "stream",
          "name": "stdout",
          "text": [
            "Collecting squarify\n",
            "  Downloading squarify-0.4.3-py3-none-any.whl (4.3 kB)\n",
            "Installing collected packages: squarify\n",
            "Successfully installed squarify-0.4.3\n"
          ]
        }
      ],
      "source": [
        "import pandas as pd\n",
        "import plotly.express as px\n",
        "import matplotlib.pyplot as plt\n",
        "import seaborn as sns\n",
        "!pip install squarify\n",
        "import squarify\n"
      ]
    },
    {
      "cell_type": "code",
      "source": [
        "df = pd.read_csv('https://raw.githubusercontent.com/camdenlol/march-madness/main/mrachie%20madnoss%20graphie.csv')\n",
        "df.head()"
      ],
      "metadata": {
        "id": "WuKfPJgjK0Zg",
        "outputId": "2b09d1e3-a618-4347-b3c6-2a291fbe5bc1",
        "colab": {
          "base_uri": "https://localhost:8080/",
          "height": 206
        }
      },
      "execution_count": null,
      "outputs": [
        {
          "output_type": "execute_result",
          "data": {
            "text/plain": [
              "   seeding matchup  opponent\n",
              "0   No. 9 vs No. 8        79\n",
              "1  No. 11 vs No. 6        60\n",
              "2  No. 10 vs No. 7        60\n",
              "3  No. 12 vs No. 5        51\n",
              "4   No. 5 vs No. 4        37"
            ],
            "text/html": [
              "\n",
              "  <div id=\"df-3ec48bb1-0c49-4af5-b6db-914ef14d38a1\" class=\"colab-df-container\">\n",
              "    <div>\n",
              "<style scoped>\n",
              "    .dataframe tbody tr th:only-of-type {\n",
              "        vertical-align: middle;\n",
              "    }\n",
              "\n",
              "    .dataframe tbody tr th {\n",
              "        vertical-align: top;\n",
              "    }\n",
              "\n",
              "    .dataframe thead th {\n",
              "        text-align: right;\n",
              "    }\n",
              "</style>\n",
              "<table border=\"1\" class=\"dataframe\">\n",
              "  <thead>\n",
              "    <tr style=\"text-align: right;\">\n",
              "      <th></th>\n",
              "      <th>seeding matchup</th>\n",
              "      <th>opponent</th>\n",
              "    </tr>\n",
              "  </thead>\n",
              "  <tbody>\n",
              "    <tr>\n",
              "      <th>0</th>\n",
              "      <td>No. 9 vs No. 8</td>\n",
              "      <td>79</td>\n",
              "    </tr>\n",
              "    <tr>\n",
              "      <th>1</th>\n",
              "      <td>No. 11 vs No. 6</td>\n",
              "      <td>60</td>\n",
              "    </tr>\n",
              "    <tr>\n",
              "      <th>2</th>\n",
              "      <td>No. 10 vs No. 7</td>\n",
              "      <td>60</td>\n",
              "    </tr>\n",
              "    <tr>\n",
              "      <th>3</th>\n",
              "      <td>No. 12 vs No. 5</td>\n",
              "      <td>51</td>\n",
              "    </tr>\n",
              "    <tr>\n",
              "      <th>4</th>\n",
              "      <td>No. 5 vs No. 4</td>\n",
              "      <td>37</td>\n",
              "    </tr>\n",
              "  </tbody>\n",
              "</table>\n",
              "</div>\n",
              "    <div class=\"colab-df-buttons\">\n",
              "\n",
              "  <div class=\"colab-df-container\">\n",
              "    <button class=\"colab-df-convert\" onclick=\"convertToInteractive('df-3ec48bb1-0c49-4af5-b6db-914ef14d38a1')\"\n",
              "            title=\"Convert this dataframe to an interactive table.\"\n",
              "            style=\"display:none;\">\n",
              "\n",
              "  <svg xmlns=\"http://www.w3.org/2000/svg\" height=\"24px\" viewBox=\"0 -960 960 960\">\n",
              "    <path d=\"M120-120v-720h720v720H120Zm60-500h600v-160H180v160Zm220 220h160v-160H400v160Zm0 220h160v-160H400v160ZM180-400h160v-160H180v160Zm440 0h160v-160H620v160ZM180-180h160v-160H180v160Zm440 0h160v-160H620v160Z\"/>\n",
              "  </svg>\n",
              "    </button>\n",
              "\n",
              "  <style>\n",
              "    .colab-df-container {\n",
              "      display:flex;\n",
              "      gap: 12px;\n",
              "    }\n",
              "\n",
              "    .colab-df-convert {\n",
              "      background-color: #E8F0FE;\n",
              "      border: none;\n",
              "      border-radius: 50%;\n",
              "      cursor: pointer;\n",
              "      display: none;\n",
              "      fill: #1967D2;\n",
              "      height: 32px;\n",
              "      padding: 0 0 0 0;\n",
              "      width: 32px;\n",
              "    }\n",
              "\n",
              "    .colab-df-convert:hover {\n",
              "      background-color: #E2EBFA;\n",
              "      box-shadow: 0px 1px 2px rgba(60, 64, 67, 0.3), 0px 1px 3px 1px rgba(60, 64, 67, 0.15);\n",
              "      fill: #174EA6;\n",
              "    }\n",
              "\n",
              "    .colab-df-buttons div {\n",
              "      margin-bottom: 4px;\n",
              "    }\n",
              "\n",
              "    [theme=dark] .colab-df-convert {\n",
              "      background-color: #3B4455;\n",
              "      fill: #D2E3FC;\n",
              "    }\n",
              "\n",
              "    [theme=dark] .colab-df-convert:hover {\n",
              "      background-color: #434B5C;\n",
              "      box-shadow: 0px 1px 3px 1px rgba(0, 0, 0, 0.15);\n",
              "      filter: drop-shadow(0px 1px 2px rgba(0, 0, 0, 0.3));\n",
              "      fill: #FFFFFF;\n",
              "    }\n",
              "  </style>\n",
              "\n",
              "    <script>\n",
              "      const buttonEl =\n",
              "        document.querySelector('#df-3ec48bb1-0c49-4af5-b6db-914ef14d38a1 button.colab-df-convert');\n",
              "      buttonEl.style.display =\n",
              "        google.colab.kernel.accessAllowed ? 'block' : 'none';\n",
              "\n",
              "      async function convertToInteractive(key) {\n",
              "        const element = document.querySelector('#df-3ec48bb1-0c49-4af5-b6db-914ef14d38a1');\n",
              "        const dataTable =\n",
              "          await google.colab.kernel.invokeFunction('convertToInteractive',\n",
              "                                                    [key], {});\n",
              "        if (!dataTable) return;\n",
              "\n",
              "        const docLinkHtml = 'Like what you see? Visit the ' +\n",
              "          '<a target=\"_blank\" href=https://colab.research.google.com/notebooks/data_table.ipynb>data table notebook</a>'\n",
              "          + ' to learn more about interactive tables.';\n",
              "        element.innerHTML = '';\n",
              "        dataTable['output_type'] = 'display_data';\n",
              "        await google.colab.output.renderOutput(dataTable, element);\n",
              "        const docLink = document.createElement('div');\n",
              "        docLink.innerHTML = docLinkHtml;\n",
              "        element.appendChild(docLink);\n",
              "      }\n",
              "    </script>\n",
              "  </div>\n",
              "\n",
              "\n",
              "<div id=\"df-fca387e9-7cd6-4c6c-8055-0e8834c6603b\">\n",
              "  <button class=\"colab-df-quickchart\" onclick=\"quickchart('df-fca387e9-7cd6-4c6c-8055-0e8834c6603b')\"\n",
              "            title=\"Suggest charts\"\n",
              "            style=\"display:none;\">\n",
              "\n",
              "<svg xmlns=\"http://www.w3.org/2000/svg\" height=\"24px\"viewBox=\"0 0 24 24\"\n",
              "     width=\"24px\">\n",
              "    <g>\n",
              "        <path d=\"M19 3H5c-1.1 0-2 .9-2 2v14c0 1.1.9 2 2 2h14c1.1 0 2-.9 2-2V5c0-1.1-.9-2-2-2zM9 17H7v-7h2v7zm4 0h-2V7h2v10zm4 0h-2v-4h2v4z\"/>\n",
              "    </g>\n",
              "</svg>\n",
              "  </button>\n",
              "\n",
              "<style>\n",
              "  .colab-df-quickchart {\n",
              "      --bg-color: #E8F0FE;\n",
              "      --fill-color: #1967D2;\n",
              "      --hover-bg-color: #E2EBFA;\n",
              "      --hover-fill-color: #174EA6;\n",
              "      --disabled-fill-color: #AAA;\n",
              "      --disabled-bg-color: #DDD;\n",
              "  }\n",
              "\n",
              "  [theme=dark] .colab-df-quickchart {\n",
              "      --bg-color: #3B4455;\n",
              "      --fill-color: #D2E3FC;\n",
              "      --hover-bg-color: #434B5C;\n",
              "      --hover-fill-color: #FFFFFF;\n",
              "      --disabled-bg-color: #3B4455;\n",
              "      --disabled-fill-color: #666;\n",
              "  }\n",
              "\n",
              "  .colab-df-quickchart {\n",
              "    background-color: var(--bg-color);\n",
              "    border: none;\n",
              "    border-radius: 50%;\n",
              "    cursor: pointer;\n",
              "    display: none;\n",
              "    fill: var(--fill-color);\n",
              "    height: 32px;\n",
              "    padding: 0;\n",
              "    width: 32px;\n",
              "  }\n",
              "\n",
              "  .colab-df-quickchart:hover {\n",
              "    background-color: var(--hover-bg-color);\n",
              "    box-shadow: 0 1px 2px rgba(60, 64, 67, 0.3), 0 1px 3px 1px rgba(60, 64, 67, 0.15);\n",
              "    fill: var(--button-hover-fill-color);\n",
              "  }\n",
              "\n",
              "  .colab-df-quickchart-complete:disabled,\n",
              "  .colab-df-quickchart-complete:disabled:hover {\n",
              "    background-color: var(--disabled-bg-color);\n",
              "    fill: var(--disabled-fill-color);\n",
              "    box-shadow: none;\n",
              "  }\n",
              "\n",
              "  .colab-df-spinner {\n",
              "    border: 2px solid var(--fill-color);\n",
              "    border-color: transparent;\n",
              "    border-bottom-color: var(--fill-color);\n",
              "    animation:\n",
              "      spin 1s steps(1) infinite;\n",
              "  }\n",
              "\n",
              "  @keyframes spin {\n",
              "    0% {\n",
              "      border-color: transparent;\n",
              "      border-bottom-color: var(--fill-color);\n",
              "      border-left-color: var(--fill-color);\n",
              "    }\n",
              "    20% {\n",
              "      border-color: transparent;\n",
              "      border-left-color: var(--fill-color);\n",
              "      border-top-color: var(--fill-color);\n",
              "    }\n",
              "    30% {\n",
              "      border-color: transparent;\n",
              "      border-left-color: var(--fill-color);\n",
              "      border-top-color: var(--fill-color);\n",
              "      border-right-color: var(--fill-color);\n",
              "    }\n",
              "    40% {\n",
              "      border-color: transparent;\n",
              "      border-right-color: var(--fill-color);\n",
              "      border-top-color: var(--fill-color);\n",
              "    }\n",
              "    60% {\n",
              "      border-color: transparent;\n",
              "      border-right-color: var(--fill-color);\n",
              "    }\n",
              "    80% {\n",
              "      border-color: transparent;\n",
              "      border-right-color: var(--fill-color);\n",
              "      border-bottom-color: var(--fill-color);\n",
              "    }\n",
              "    90% {\n",
              "      border-color: transparent;\n",
              "      border-bottom-color: var(--fill-color);\n",
              "    }\n",
              "  }\n",
              "</style>\n",
              "\n",
              "  <script>\n",
              "    async function quickchart(key) {\n",
              "      const quickchartButtonEl =\n",
              "        document.querySelector('#' + key + ' button');\n",
              "      quickchartButtonEl.disabled = true;  // To prevent multiple clicks.\n",
              "      quickchartButtonEl.classList.add('colab-df-spinner');\n",
              "      try {\n",
              "        const charts = await google.colab.kernel.invokeFunction(\n",
              "            'suggestCharts', [key], {});\n",
              "      } catch (error) {\n",
              "        console.error('Error during call to suggestCharts:', error);\n",
              "      }\n",
              "      quickchartButtonEl.classList.remove('colab-df-spinner');\n",
              "      quickchartButtonEl.classList.add('colab-df-quickchart-complete');\n",
              "    }\n",
              "    (() => {\n",
              "      let quickchartButtonEl =\n",
              "        document.querySelector('#df-fca387e9-7cd6-4c6c-8055-0e8834c6603b button');\n",
              "      quickchartButtonEl.style.display =\n",
              "        google.colab.kernel.accessAllowed ? 'block' : 'none';\n",
              "    })();\n",
              "  </script>\n",
              "</div>\n",
              "\n",
              "    </div>\n",
              "  </div>\n"
            ],
            "application/vnd.google.colaboratory.intrinsic+json": {
              "type": "dataframe",
              "variable_name": "df",
              "summary": "{\n  \"name\": \"df\",\n  \"rows\": 55,\n  \"fields\": [\n    {\n      \"column\": \"seeding matchup\",\n      \"properties\": {\n        \"dtype\": \"string\",\n        \"num_unique_values\": 55,\n        \"samples\": [\n          \"No. 11 vs No. 1\",\n          \"No. 6 vs No. 3\",\n          \"No. 11 vs No. 2\"\n        ],\n        \"semantic_type\": \"\",\n        \"description\": \"\"\n      }\n    },\n    {\n      \"column\": \"opponent\",\n      \"properties\": {\n        \"dtype\": \"number\",\n        \"std\": 17,\n        \"min\": 1,\n        \"max\": 79,\n        \"num_unique_values\": 22,\n        \"samples\": [\n          79,\n          10,\n          24\n        ],\n        \"semantic_type\": \"\",\n        \"description\": \"\"\n      }\n    }\n  ]\n}"
            }
          },
          "metadata": {},
          "execution_count": 3
        }
      ]
    },
    {
      "cell_type": "code",
      "source": [
        "print(df.iloc[4,0])\n",
        "i = 4\n",
        "def f(i):\n",
        "  return int(df.iloc[i,0][4:6].strip()) + int(df.iloc[i,0][-2:].strip())\n",
        "\n",
        "f(i)"
      ],
      "metadata": {
        "colab": {
          "base_uri": "https://localhost:8080/"
        },
        "id": "VLPm5IWIK_Bp",
        "outputId": "d226ac31-ccde-4804-dea4-d7067e0ecd12"
      },
      "execution_count": null,
      "outputs": [
        {
          "output_type": "stream",
          "name": "stdout",
          "text": [
            "No. 5 vs No. 4\n"
          ]
        },
        {
          "output_type": "execute_result",
          "data": {
            "text/plain": [
              "9"
            ]
          },
          "metadata": {},
          "execution_count": 4
        }
      ]
    },
    {
      "cell_type": "code",
      "source": [
        "lst = []\n",
        "lst2 = []\n",
        "\n",
        "for i in range(55):\n",
        "  print(df.iloc[i,0])\n",
        "  print(f(i))\n",
        "  lst.append(f(i))\n",
        "  lst2.append(df.iloc[i,0][4:6].strip() + \" v \" + df.iloc[i,0][-2:].strip() )\n",
        "\n",
        "lst2"
      ],
      "metadata": {
        "id": "bo9SZwfoKtuO",
        "outputId": "7077f41d-e754-4454-de14-37e642e5a8ad",
        "colab": {
          "base_uri": "https://localhost:8080/"
        }
      },
      "execution_count": null,
      "outputs": [
        {
          "output_type": "stream",
          "name": "stdout",
          "text": [
            "No. 9 vs No. 8\n",
            "17\n",
            "No. 11 vs No. 6\n",
            "17\n",
            "No. 10 vs No. 7\n",
            "17\n",
            "No. 12 vs No. 5\n",
            "17\n",
            "No. 5 vs No. 4\n",
            "9\n",
            "No. 6 vs No. 3\n",
            "9\n",
            "No. 13 vs No. 4\n",
            "17\n",
            "No. 2 vs No. 1\n",
            "3\n",
            "No. 7 vs No. 2\n",
            "9\n",
            "No. 3 vs No. 2\n",
            "5\n",
            "No. 4 vs No. 1\n",
            "5\n",
            "No. 14 vs No. 3\n",
            "17\n",
            "No. 11 vs No. 3\n",
            "14\n",
            "No. 10 vs No. 2\n",
            "12\n",
            "No. 8 vs No. 1\n",
            "9\n",
            "No. 15 vs No. 2\n",
            "17\n",
            "No. 3 vs No. 1\n",
            "4\n",
            "No. 12 vs No. 4\n",
            "16\n",
            "No. 5 vs No. 1\n",
            "6\n",
            "No. 6 vs No. 2\n",
            "8\n",
            "No. 7 vs No. 3\n",
            "10\n",
            "No. 9 vs No. 1\n",
            "10\n",
            "No. 8 vs No. 4\n",
            "12\n",
            "No. 8 vs No. 2\n",
            "10\n",
            "No. 5 vs No. 2\n",
            "7\n",
            "No. 4 vs No. 2\n",
            "6\n",
            "No. 6 vs No. 1\n",
            "7\n",
            "No. 15 vs No. 7\n",
            "22\n",
            "No. 4 vs No. 3\n",
            "7\n",
            "No. 7 vs No. 4\n",
            "11\n",
            "No. 11 vs No. 7\n",
            "18\n",
            "No. 11 vs No. 1\n",
            "12\n",
            "No. 11 vs No. 2\n",
            "13\n",
            "No. 13 vs No. 12\n",
            "25\n",
            "No. 10 vs No. 3\n",
            "13\n",
            "No. 13 vs No. 5\n",
            "18\n",
            "No. 8 vs No. 5\n",
            "13\n",
            "No. 10 vs No. 6\n",
            "16\n",
            "No. 6 vs No. 4\n",
            "10\n",
            "No. 16 vs No. 1\n",
            "17\n",
            "No. 9 vs No. 4\n",
            "13\n",
            "No. 9 vs No. 5\n",
            "14\n",
            "No. 11 vs No. 10\n",
            "21\n",
            "No. 8 vs No. 7\n",
            "15\n",
            "No. 7 vs No. 6\n",
            "13\n",
            "No. 14 vs No. 6\n",
            "20\n",
            "No. 9 vs No. 3\n",
            "12\n",
            "No. 11 vs No. 9\n",
            "20\n",
            "No. 15 vs No. 3\n",
            "18\n",
            "No. 12 vs No. 8\n",
            "20\n",
            "No. 9 vs No. 2\n",
            "11\n",
            "No. 7 vs No. 1\n",
            "8\n",
            "No. 10 vs No. 1\n",
            "11\n",
            "No. 5 vs No. 3\n",
            "8\n",
            "No. 8 vs No. 6\n",
            "14\n"
          ]
        },
        {
          "output_type": "execute_result",
          "data": {
            "text/plain": [
              "['9 v 8',\n",
              " '11 v 6',\n",
              " '10 v 7',\n",
              " '12 v 5',\n",
              " '5 v 4',\n",
              " '6 v 3',\n",
              " '13 v 4',\n",
              " '2 v 1',\n",
              " '7 v 2',\n",
              " '3 v 2',\n",
              " '4 v 1',\n",
              " '14 v 3',\n",
              " '11 v 3',\n",
              " '10 v 2',\n",
              " '8 v 1',\n",
              " '15 v 2',\n",
              " '3 v 1',\n",
              " '12 v 4',\n",
              " '5 v 1',\n",
              " '6 v 2',\n",
              " '7 v 3',\n",
              " '9 v 1',\n",
              " '8 v 4',\n",
              " '8 v 2',\n",
              " '5 v 2',\n",
              " '4 v 2',\n",
              " '6 v 1',\n",
              " '15 v 7',\n",
              " '4 v 3',\n",
              " '7 v 4',\n",
              " '11 v 7',\n",
              " '11 v 1',\n",
              " '11 v 2',\n",
              " '13 v 12',\n",
              " '10 v 3',\n",
              " '13 v 5',\n",
              " '8 v 5',\n",
              " '10 v 6',\n",
              " '6 v 4',\n",
              " '16 v 1',\n",
              " '9 v 4',\n",
              " '9 v 5',\n",
              " '11 v 10',\n",
              " '8 v 7',\n",
              " '7 v 6',\n",
              " '14 v 6',\n",
              " '9 v 3',\n",
              " '11 v 9',\n",
              " '15 v 3',\n",
              " '12 v 8',\n",
              " '9 v 2',\n",
              " '7 v 1',\n",
              " '10 v 1',\n",
              " '5 v 3',\n",
              " '8 v 6']"
            ]
          },
          "metadata": {},
          "execution_count": 5
        }
      ]
    },
    {
      "cell_type": "code",
      "source": [
        "dict1 = {17:'cyan',9:'lime', 5:'purple',3:'pink'}"
      ],
      "metadata": {
        "id": "oa_gLoOaJypL"
      },
      "execution_count": null,
      "outputs": []
    },
    {
      "cell_type": "code",
      "source": [
        "c = [dict1.get(l,'gold') for l in lst]\n",
        "\n",
        "c"
      ],
      "metadata": {
        "id": "pSkxfWWXLjbf",
        "outputId": "d4eb0949-1efd-4903-9298-e723831e1ec0",
        "colab": {
          "base_uri": "https://localhost:8080/"
        }
      },
      "execution_count": null,
      "outputs": [
        {
          "output_type": "execute_result",
          "data": {
            "text/plain": [
              "['cyan',\n",
              " 'cyan',\n",
              " 'cyan',\n",
              " 'cyan',\n",
              " 'lime',\n",
              " 'lime',\n",
              " 'cyan',\n",
              " 'pink',\n",
              " 'lime',\n",
              " 'purple',\n",
              " 'purple',\n",
              " 'cyan',\n",
              " 'gold',\n",
              " 'gold',\n",
              " 'lime',\n",
              " 'cyan',\n",
              " 'gold',\n",
              " 'gold',\n",
              " 'gold',\n",
              " 'gold',\n",
              " 'gold',\n",
              " 'gold',\n",
              " 'gold',\n",
              " 'gold',\n",
              " 'gold',\n",
              " 'gold',\n",
              " 'gold',\n",
              " 'gold',\n",
              " 'gold',\n",
              " 'gold',\n",
              " 'gold',\n",
              " 'gold',\n",
              " 'gold',\n",
              " 'gold',\n",
              " 'gold',\n",
              " 'gold',\n",
              " 'gold',\n",
              " 'gold',\n",
              " 'gold',\n",
              " 'cyan',\n",
              " 'gold',\n",
              " 'gold',\n",
              " 'gold',\n",
              " 'gold',\n",
              " 'gold',\n",
              " 'gold',\n",
              " 'gold',\n",
              " 'gold',\n",
              " 'gold',\n",
              " 'gold',\n",
              " 'gold',\n",
              " 'gold',\n",
              " 'gold',\n",
              " 'gold',\n",
              " 'gold']"
            ]
          },
          "metadata": {},
          "execution_count": 7
        }
      ]
    },
    {
      "cell_type": "code",
      "source": [
        "df.columns"
      ],
      "metadata": {
        "id": "pEQZjLGAIrvD",
        "outputId": "125bdee6-f4c0-4ea7-f639-afcbc5b83eb0",
        "colab": {
          "base_uri": "https://localhost:8080/"
        }
      },
      "execution_count": null,
      "outputs": [
        {
          "output_type": "execute_result",
          "data": {
            "text/plain": [
              "Index(['seeding matchup', 'opponent'], dtype='object')"
            ]
          },
          "metadata": {},
          "execution_count": 8
        }
      ]
    },
    {
      "cell_type": "code",
      "source": [
        "df.plot(kind='bar', title='Most Occuring March Madness Upsets', ylabel= 'Times Occurred', xlabel= 'seeding matchup', figsize=(11,10))"
      ],
      "metadata": {
        "colab": {
          "base_uri": "https://localhost:8080/",
          "height": 893
        },
        "id": "00V-eFqyNVX5",
        "outputId": "87672bd4-8d38-4a8d-ea18-eb46b6de44e5"
      },
      "execution_count": null,
      "outputs": [
        {
          "output_type": "execute_result",
          "data": {
            "text/plain": [
              "<Axes: title={'center': 'Most Occuring March Madness Upsets'}, xlabel='seeding matchup', ylabel='Times Occurred'>"
            ]
          },
          "metadata": {},
          "execution_count": 9
        },
        {
          "output_type": "display_data",
          "data": {
            "text/plain": [
              "<Figure size 1100x1000 with 1 Axes>"
            ],
            "image/png": "[encoded data removed]"
          },
          "metadata": {}
        }
      ]
    },
    {
      "cell_type": "markdown",
      "source": [
        "\n",
        "\n",
        "MATPLOT LIB RRRAAAAAAAAAAAAAAAAAHHHHHH"
      ],
      "metadata": {
        "id": "RhdVHV-eOyJH"
      }
    },
    {
      "cell_type": "code",
      "source": [
        " def format_label(label):\n",
        "    parts = label.split(\"No. \")\n",
        "    if len(parts) == 2:\n",
        "        numbers = parts[1].split(\" vs \")\n",
        "        if len(numbers) == 2:\n",
        "            return f\"{numbers[0]} v {numbers[1]}\"\n",
        "    return label\n",
        "labels= df['seeding matchup']\n",
        "\n",
        "\n",
        "sizes = df['opponent']"
      ],
      "metadata": {
        "id": "eGW4pAP7-ApQ"
      },
      "execution_count": null,
      "outputs": []
    },
    {
      "cell_type": "code",
      "source": [
        "import matplotlib.patches as mpatches\n",
        "\n",
        "#fig, ax = plt.subplots(1)\n",
        "plt.figure(figsize=(10, 6))\n",
        "squarify.plot(sizes=sizes, label=lst2, color = c, alpha=0.6, pad = 2)\n",
        "\n",
        "\n",
        "red_patch1 = mpatches.Patch(color='cyan', label='First Round')\n",
        "red_patch2 = mpatches.Patch(color='lime', label='Second Round')\n",
        "red_patch3 = mpatches.Patch(color='purple', label='Third Round')\n",
        "red_patch4 = mpatches.Patch(color='pink', label='Fourth Round or Later')\n",
        "red_patch5 = mpatches.Patch(color='gold', label='Multiple Upsets')\n",
        "\n",
        "plt.legend(handles=[red_patch1,red_patch2,red_patch3,red_patch4,red_patch5],loc='upper right', bbox_to_anchor=(-0.005, 1))\n",
        "\n",
        "\n",
        "plt.axis('off')\n",
        "plt.show()\n",
        "\n"
      ],
      "metadata": {
        "colab": {
          "base_uri": "https://localhost:8080/",
          "height": 499
        },
        "id": "tR8IkGzo7C2B",
        "outputId": "ea3b50aa-f000-44ca-8f5d-2662ab070a39"
      },
      "execution_count": null,
      "outputs": [
        {
          "output_type": "display_data",
          "data": {
            "text/plain": [
              "<Figure size 1000x600 with 1 Axes>"
            ],
            "image/png": "[encoded data removed]"
          },
          "metadata": {}
        }
      ]
    },
    {
      "cell_type": "markdown",
      "source": [
        "the following was stolen from gpt\n"
      ],
      "metadata": {
        "id": "U94kMspIrn4l"
      }
    },
    {
      "cell_type": "code",
      "source": [
        "import csv\n",
        "import re\n",
        "import requests\n",
        "from io import StringIO\n",
        "\n",
        "# Function to convert strings to numbers using regex\n",
        "def convert_strings_to_numbers(string):\n",
        "    pattern = r'\\d+'\n",
        "    matches = re.findall(pattern, string)\n",
        "    return [int(match) for match in matches]  # Convert each match to an integer\n",
        "\n",
        "# URL of the CSV file on GitHub\n",
        "csv_url = \"https://raw.githubusercontent.com/camdenlol/march-madness/main/mrachie%20madnoss%20graphie.csv\"\n",
        "# Replace 'your_username', 'your_repository', and 'your_file.csv' with your GitHub details and CSV file name\n",
        "\n",
        "# Download the CSV file from GitHub\n",
        "response = requests.get(csv_url)\n",
        "if response.status_code == 200:\n",
        "    # Read the CSV content from the response\n",
        "    csv_content = response.text\n",
        "    # Use StringIO to create a file-like object\n",
        "    csv_file = StringIO(csv_content)\n",
        "\n",
        "    # Process the CSV file\n",
        "    reader = csv.reader(csv_file)\n",
        "    for row in reader:\n",
        "        # Assuming each row is a list of strings\n",
        "        numbers_in_row = []\n",
        "        for item in row:\n",
        "            numbers_in_item = convert_strings_to_numbers(item)\n",
        "            numbers_in_row.extend(numbers_in_item)\n",
        "        print(\"Numbers in row:\", numbers_in_row)\n",
        "else:\n",
        "    print(\"Failed to download the CSV file. Please check the URL.\")\n"
      ],
      "metadata": {
        "id": "QEGkGgdErsYk",
        "colab": {
          "base_uri": "https://localhost:8080/"
        },
        "outputId": "da42f3f2-0a25-499b-d33f-54361f0e5e45"
      },
      "execution_count": null,
      "outputs": [
        {
          "output_type": "stream",
          "name": "stdout",
          "text": [
            "Numbers in row: []\n",
            "Numbers in row: [9, 8, 79]\n",
            "Numbers in row: [11, 6, 60]\n",
            "Numbers in row: [10, 7, 60]\n",
            "Numbers in row: [12, 5, 51]\n",
            "Numbers in row: [5, 4, 37]\n",
            "Numbers in row: [6, 3, 32]\n",
            "Numbers in row: [13, 4, 30]\n",
            "Numbers in row: [2, 1, 29]\n",
            "Numbers in row: [7, 2, 27]\n",
            "Numbers in row: [3, 2, 24]\n",
            "Numbers in row: [4, 1, 22]\n",
            "Numbers in row: [14, 3, 22]\n",
            "Numbers in row: [11, 3, 19]\n",
            "Numbers in row: [10, 2, 19]\n",
            "Numbers in row: [8, 1, 17]\n",
            "Numbers in row: [15, 2, 11]\n",
            "Numbers in row: [3, 1, 11]\n",
            "Numbers in row: [12, 4, 11]\n",
            "Numbers in row: [5, 1, 10]\n",
            "Numbers in row: [6, 2, 8]\n",
            "Numbers in row: [7, 3, 7]\n",
            "Numbers in row: [9, 1, 6]\n",
            "Numbers in row: [8, 4, 6]\n",
            "Numbers in row: [8, 2, 6]\n",
            "Numbers in row: [5, 2, 5]\n",
            "Numbers in row: [4, 2, 5]\n",
            "Numbers in row: [6, 1, 5]\n",
            "Numbers in row: [15, 7, 4]\n",
            "Numbers in row: [4, 3, 4]\n",
            "Numbers in row: [7, 4, 4]\n",
            "Numbers in row: [11, 7, 4]\n",
            "Numbers in row: [11, 1, 4]\n",
            "Numbers in row: [11, 2, 3]\n",
            "Numbers in row: [13, 12, 3]\n",
            "Numbers in row: [10, 3, 3]\n",
            "Numbers in row: [13, 5, 3]\n",
            "Numbers in row: [8, 5, 3]\n",
            "Numbers in row: [10, 6, 3]\n",
            "Numbers in row: [6, 4, 3]\n",
            "Numbers in row: [16, 1, 2]\n",
            "Numbers in row: [9, 4, 2]\n",
            "Numbers in row: [9, 5, 2]\n",
            "Numbers in row: [11, 10, 2]\n",
            "Numbers in row: [8, 7, 2]\n",
            "Numbers in row: [7, 6, 2]\n",
            "Numbers in row: [14, 6, 2]\n",
            "Numbers in row: [9, 3, 1]\n",
            "Numbers in row: [11, 9, 1]\n",
            "Numbers in row: [15, 3, 1]\n",
            "Numbers in row: [12, 8, 1]\n",
            "Numbers in row: [9, 2, 1]\n",
            "Numbers in row: [7, 1, 1]\n",
            "Numbers in row: [10, 1, 1]\n",
            "Numbers in row: [5, 3, 1]\n",
            "Numbers in row: [8, 6, 1]\n"
          ]
        }
      ]
    },
    {
      "cell_type": "markdown",
      "source": [
        "this was also robbed from chat gpt."
      ],
      "metadata": {
        "id": "kr-9B4jfuLnV"
      }
    },
    {
      "cell_type": "code",
      "source": [
        "import csv\n",
        "import re\n",
        "import requests\n",
        "from io import StringIO\n",
        "\n",
        "# Function to convert strings to numbers using regex\n",
        "def convert_strings_to_numbers(string):\n",
        "    pattern = r'\\d+'\n",
        "    matches = re.findall(pattern, string)\n",
        "    return [int(match) for match in matches]  # Convert each match to an integer\n",
        "\n",
        "# URL of the CSV file on GitHub\n",
        "csv_url = \"https://raw.githubusercontent.com/camdenlol/march-madness/main/mrachie%20madnoss%20graphie.csv\"\n",
        "# Replace 'your_username', 'your_repository', and 'your_file.csv' with your GitHub details and CSV file name\n",
        "\n",
        "# Download the CSV file from GitHub\n",
        "response = requests.get(csv_url)\n",
        "if response.status_code == 200:\n",
        "    # Read the CSV content from the response\n",
        "    csv_content = response.text\n",
        "    # Use StringIO to create a file-like object\n",
        "    csv_file = StringIO(csv_content)\n",
        "\n",
        "    # Process the CSV file\n",
        "    reader = csv.reader(csv_file)\n",
        "    for row in reader:\n",
        "        # Assuming each row is a list of strings\n",
        "        numbers_in_row = []\n",
        "        for item in row:\n",
        "            numbers_in_item = convert_strings_to_numbers(item)\n",
        "            numbers_in_row.extend(numbers_in_item)\n",
        "\n",
        "        # Sum the first two numbers in the row\n",
        "        sum_of_first_two_numbers = sum(numbers_in_row[:2])\n",
        "        print(\"Sum of the first two numbers in row:\", sum_of_first_two_numbers)\n",
        "else:\n",
        "    print(\"Failed to download the CSV file. Please check the URL.\")\n"
      ],
      "metadata": {
        "id": "FlO3LY2nr1om",
        "colab": {
          "base_uri": "https://localhost:8080/"
        },
        "outputId": "e4ea67bb-c91a-43d1-b099-88fe6c098d9a"
      },
      "execution_count": null,
      "outputs": [
        {
          "output_type": "stream",
          "name": "stdout",
          "text": [
            "Sum of the first two numbers in row: 0\n",
            "Sum of the first two numbers in row: 17\n",
            "Sum of the first two numbers in row: 17\n",
            "Sum of the first two numbers in row: 17\n",
            "Sum of the first two numbers in row: 17\n",
            "Sum of the first two numbers in row: 9\n",
            "Sum of the first two numbers in row: 9\n",
            "Sum of the first two numbers in row: 17\n",
            "Sum of the first two numbers in row: 3\n",
            "Sum of the first two numbers in row: 9\n",
            "Sum of the first two numbers in row: 5\n",
            "Sum of the first two numbers in row: 5\n",
            "Sum of the first two numbers in row: 17\n",
            "Sum of the first two numbers in row: 14\n",
            "Sum of the first two numbers in row: 12\n",
            "Sum of the first two numbers in row: 9\n",
            "Sum of the first two numbers in row: 17\n",
            "Sum of the first two numbers in row: 4\n",
            "Sum of the first two numbers in row: 16\n",
            "Sum of the first two numbers in row: 6\n",
            "Sum of the first two numbers in row: 8\n",
            "Sum of the first two numbers in row: 10\n",
            "Sum of the first two numbers in row: 10\n",
            "Sum of the first two numbers in row: 12\n",
            "Sum of the first two numbers in row: 10\n",
            "Sum of the first two numbers in row: 7\n",
            "Sum of the first two numbers in row: 6\n",
            "Sum of the first two numbers in row: 7\n",
            "Sum of the first two numbers in row: 22\n",
            "Sum of the first two numbers in row: 7\n",
            "Sum of the first two numbers in row: 11\n",
            "Sum of the first two numbers in row: 18\n",
            "Sum of the first two numbers in row: 12\n",
            "Sum of the first two numbers in row: 13\n",
            "Sum of the first two numbers in row: 25\n",
            "Sum of the first two numbers in row: 13\n",
            "Sum of the first two numbers in row: 18\n",
            "Sum of the first two numbers in row: 13\n",
            "Sum of the first two numbers in row: 16\n",
            "Sum of the first two numbers in row: 10\n",
            "Sum of the first two numbers in row: 17\n",
            "Sum of the first two numbers in row: 13\n",
            "Sum of the first two numbers in row: 14\n",
            "Sum of the first two numbers in row: 21\n",
            "Sum of the first two numbers in row: 15\n",
            "Sum of the first two numbers in row: 13\n",
            "Sum of the first two numbers in row: 20\n",
            "Sum of the first two numbers in row: 12\n",
            "Sum of the first two numbers in row: 20\n",
            "Sum of the first two numbers in row: 18\n",
            "Sum of the first two numbers in row: 20\n",
            "Sum of the first two numbers in row: 11\n",
            "Sum of the first two numbers in row: 8\n",
            "Sum of the first two numbers in row: 11\n",
            "Sum of the first two numbers in row: 8\n",
            "Sum of the first two numbers in row: 14\n"
          ]
        }
      ]
    },
    {
      "cell_type": "markdown",
      "source": [
        "more stuff ripped"
      ],
      "metadata": {
        "id": "ix0UgBS2vOES"
      }
    },
    {
      "cell_type": "code",
      "source": [
        "import pandas as pd\n",
        "import requests\n",
        "import plotly.express as px\n",
        "\n",
        "# URL of the CSV file on GitHub\n",
        "csv_url = \"https://raw.githubusercontent.com/camdenlol/march-madness/main/mrachie%20madnoss%20graphie.csv\"\n",
        "\n",
        "# Download the CSV file from GitHub and read it into a DataFrame\n",
        "df = pd.read_csv(csv_url)\n",
        "\n",
        "# Convert values to numeric (assuming they are strings)\n",
        "df.iloc[:, 1:] = df.iloc[:, 1:].apply(pd.to_numeric, errors='coerce')\n",
        "\n",
        "# Sum the first two numbers in each row and store the result in a new column\n",
        "df['sum_of_first_two_numbers'] = df.iloc[:, 1:3].sum(axis=1)\n",
        "\n",
        "# Function to determine color based on sum of first two numbers\n",
        "def get_color(sum_of_first_two_numbers):\n",
        "    if sum_of_first_two_numbers == 17:\n",
        "        return 'red'\n",
        "    else:\n",
        "        return 'blue'  # Or any other color you prefer for non-matching rows\n",
        "\n",
        "# Apply the function to create a new column with colors\n",
        "df['color'] = df['sum_of_first_two_numbers'].apply(get_color)\n",
        "\n",
        "# Plot the treemap\n",
        "fig = px.treemap(df, path=['seeding matchup', 'opponent'], values='seeding matchup', color='color',\n",
        "                 color_discrete_map={'red': 'red', 'blue': 'blue'})  # Specify colors\n",
        "fig.show()\n"
      ],
      "metadata": {
        "id": "wq5OJzxXuTDz",
        "colab": {
          "base_uri": "https://localhost:8080/",
          "height": 443
        },
        "outputId": "4f939796-eb06-4c23-c737-b201e7f8ea8c"
      },
      "execution_count": null,
      "outputs": [
        {
          "output_type": "error",
          "ename": "ValueError",
          "evalue": "Column `seeding matchup` of `df` could not be converted to a numerical data type.",
          "traceback": [
            "\u001b[0;31m---------------------------------------------------------------------------\u001b[0m",
            "\u001b[0;31mValueError\u001b[0m                                Traceback (most recent call last)",
            "\u001b[0;32m/usr/local/lib/python3.10/dist-packages/pandas/_libs/lib.pyx\u001b[0m in \u001b[0;36mpandas._libs.lib.maybe_convert_numeric\u001b[0;34m()\u001b[0m\n",
            "\u001b[0;31mValueError\u001b[0m: Unable to parse string \"No. 9 vs No. 8\"",
            "\nDuring handling of the above exception, another exception occurred:\n",
            "\u001b[0;31mValueError\u001b[0m                                Traceback (most recent call last)",
            "\u001b[0;32m/usr/local/lib/python3.10/dist-packages/plotly/express/_core.py\u001b[0m in \u001b[0;36mprocess_dataframe_hierarchy\u001b[0;34m(args)\u001b[0m\n\u001b[1;32m   1573\u001b[0m         \u001b[0;32mtry\u001b[0m\u001b[0;34m:\u001b[0m\u001b[0;34m\u001b[0m\u001b[0;34m\u001b[0m\u001b[0m\n\u001b[0;32m-> 1574\u001b[0;31m             \u001b[0mdf\u001b[0m\u001b[0;34m[\u001b[0m\u001b[0margs\u001b[0m\u001b[0;34m[\u001b[0m\u001b[0;34m\"values\"\u001b[0m\u001b[0;34m]\u001b[0m\u001b[0;34m]\u001b[0m \u001b[0;34m=\u001b[0m \u001b[0mpd\u001b[0m\u001b[0;34m.\u001b[0m\u001b[0mto_numeric\u001b[0m\u001b[0;34m(\u001b[0m\u001b[0mdf\u001b[0m\u001b[0;34m[\u001b[0m\u001b[0margs\u001b[0m\u001b[0;34m[\u001b[0m\u001b[0;34m\"values\"\u001b[0m\u001b[0;34m]\u001b[0m\u001b[0;34m]\u001b[0m\u001b[0;34m)\u001b[0m\u001b[0;34m\u001b[0m\u001b[0;34m\u001b[0m\u001b[0m\n\u001b[0m\u001b[1;32m   1575\u001b[0m         \u001b[0;32mexcept\u001b[0m \u001b[0mValueError\u001b[0m\u001b[0;34m:\u001b[0m\u001b[0;34m\u001b[0m\u001b[0;34m\u001b[0m\u001b[0m\n",
            "\u001b[0;32m/usr/local/lib/python3.10/dist-packages/pandas/core/tools/numeric.py\u001b[0m in \u001b[0;36mto_numeric\u001b[0;34m(arg, errors, downcast, dtype_backend)\u001b[0m\n\u001b[1;32m    216\u001b[0m         \u001b[0;32mtry\u001b[0m\u001b[0;34m:\u001b[0m\u001b[0;34m\u001b[0m\u001b[0;34m\u001b[0m\u001b[0m\n\u001b[0;32m--> 217\u001b[0;31m             values, new_mask = lib.maybe_convert_numeric(  # type: ignore[call-overload]  # noqa\n\u001b[0m\u001b[1;32m    218\u001b[0m                 \u001b[0mvalues\u001b[0m\u001b[0;34m,\u001b[0m\u001b[0;34m\u001b[0m\u001b[0;34m\u001b[0m\u001b[0m\n",
            "\u001b[0;32m/usr/local/lib/python3.10/dist-packages/pandas/_libs/lib.pyx\u001b[0m in \u001b[0;36mpandas._libs.lib.maybe_convert_numeric\u001b[0;34m()\u001b[0m\n",
            "\u001b[0;31mValueError\u001b[0m: Unable to parse string \"No. 9 vs No. 8\" at position 0",
            "\nDuring handling of the above exception, another exception occurred:\n",
            "\u001b[0;31mValueError\u001b[0m                                Traceback (most recent call last)",
            "\u001b[0;32m<ipython-input-14-b905d61256ab>\u001b[0m in \u001b[0;36m<cell line: 28>\u001b[0;34m()\u001b[0m\n\u001b[1;32m     26\u001b[0m \u001b[0;34m\u001b[0m\u001b[0m\n\u001b[1;32m     27\u001b[0m \u001b[0;31m# Plot the treemap\u001b[0m\u001b[0;34m\u001b[0m\u001b[0;34m\u001b[0m\u001b[0m\n\u001b[0;32m---> 28\u001b[0;31m fig = px.treemap(df, path=['seeding matchup', 'opponent'], values='seeding matchup', color='color',\n\u001b[0m\u001b[1;32m     29\u001b[0m                  color_discrete_map={'red': 'red', 'blue': 'blue'})  # Specify colors\n\u001b[1;32m     30\u001b[0m \u001b[0mfig\u001b[0m\u001b[0;34m.\u001b[0m\u001b[0mshow\u001b[0m\u001b[0;34m(\u001b[0m\u001b[0;34m)\u001b[0m\u001b[0;34m\u001b[0m\u001b[0;34m\u001b[0m\u001b[0m\n",
            "\u001b[0;32m/usr/local/lib/python3.10/dist-packages/plotly/express/_chart_types.py\u001b[0m in \u001b[0;36mtreemap\u001b[0;34m(data_frame, names, values, parents, ids, path, color, color_continuous_scale, range_color, color_continuous_midpoint, color_discrete_sequence, color_discrete_map, hover_name, hover_data, custom_data, labels, title, template, width, height, branchvalues, maxdepth)\u001b[0m\n\u001b[1;32m   1589\u001b[0m     \u001b[0;32mif\u001b[0m \u001b[0mpath\u001b[0m \u001b[0;32mis\u001b[0m \u001b[0;32mnot\u001b[0m \u001b[0;32mNone\u001b[0m \u001b[0;32mand\u001b[0m \u001b[0mbranchvalues\u001b[0m \u001b[0;32mis\u001b[0m \u001b[0;32mNone\u001b[0m\u001b[0;34m:\u001b[0m\u001b[0;34m\u001b[0m\u001b[0;34m\u001b[0m\u001b[0m\n\u001b[1;32m   1590\u001b[0m         \u001b[0mbranchvalues\u001b[0m \u001b[0;34m=\u001b[0m \u001b[0;34m\"total\"\u001b[0m\u001b[0;34m\u001b[0m\u001b[0;34m\u001b[0m\u001b[0m\n\u001b[0;32m-> 1591\u001b[0;31m     return make_figure(\n\u001b[0m\u001b[1;32m   1592\u001b[0m         \u001b[0margs\u001b[0m\u001b[0;34m=\u001b[0m\u001b[0mlocals\u001b[0m\u001b[0;34m(\u001b[0m\u001b[0;34m)\u001b[0m\u001b[0;34m,\u001b[0m\u001b[0;34m\u001b[0m\u001b[0;34m\u001b[0m\u001b[0m\n\u001b[1;32m   1593\u001b[0m         \u001b[0mconstructor\u001b[0m\u001b[0;34m=\u001b[0m\u001b[0mgo\u001b[0m\u001b[0;34m.\u001b[0m\u001b[0mTreemap\u001b[0m\u001b[0;34m,\u001b[0m\u001b[0;34m\u001b[0m\u001b[0;34m\u001b[0m\u001b[0m\n",
            "\u001b[0;32m/usr/local/lib/python3.10/dist-packages/plotly/express/_core.py\u001b[0m in \u001b[0;36mmake_figure\u001b[0;34m(args, constructor, trace_patch, layout_patch)\u001b[0m\n\u001b[1;32m   2003\u001b[0m     \u001b[0margs\u001b[0m \u001b[0;34m=\u001b[0m \u001b[0mbuild_dataframe\u001b[0m\u001b[0;34m(\u001b[0m\u001b[0margs\u001b[0m\u001b[0;34m,\u001b[0m \u001b[0mconstructor\u001b[0m\u001b[0;34m)\u001b[0m\u001b[0;34m\u001b[0m\u001b[0;34m\u001b[0m\u001b[0m\n\u001b[1;32m   2004\u001b[0m     \u001b[0;32mif\u001b[0m \u001b[0mconstructor\u001b[0m \u001b[0;32min\u001b[0m \u001b[0;34m[\u001b[0m\u001b[0mgo\u001b[0m\u001b[0;34m.\u001b[0m\u001b[0mTreemap\u001b[0m\u001b[0;34m,\u001b[0m \u001b[0mgo\u001b[0m\u001b[0;34m.\u001b[0m\u001b[0mSunburst\u001b[0m\u001b[0;34m,\u001b[0m \u001b[0mgo\u001b[0m\u001b[0;34m.\u001b[0m\u001b[0mIcicle\u001b[0m\u001b[0;34m]\u001b[0m \u001b[0;32mand\u001b[0m \u001b[0margs\u001b[0m\u001b[0;34m[\u001b[0m\u001b[0;34m\"path\"\u001b[0m\u001b[0;34m]\u001b[0m \u001b[0;32mis\u001b[0m \u001b[0;32mnot\u001b[0m \u001b[0;32mNone\u001b[0m\u001b[0;34m:\u001b[0m\u001b[0;34m\u001b[0m\u001b[0;34m\u001b[0m\u001b[0m\n\u001b[0;32m-> 2005\u001b[0;31m         \u001b[0margs\u001b[0m \u001b[0;34m=\u001b[0m \u001b[0mprocess_dataframe_hierarchy\u001b[0m\u001b[0;34m(\u001b[0m\u001b[0margs\u001b[0m\u001b[0;34m)\u001b[0m\u001b[0;34m\u001b[0m\u001b[0;34m\u001b[0m\u001b[0m\n\u001b[0m\u001b[1;32m   2006\u001b[0m     \u001b[0;32mif\u001b[0m \u001b[0mconstructor\u001b[0m \u001b[0;32min\u001b[0m \u001b[0;34m[\u001b[0m\u001b[0mgo\u001b[0m\u001b[0;34m.\u001b[0m\u001b[0mPie\u001b[0m\u001b[0;34m]\u001b[0m\u001b[0;34m:\u001b[0m\u001b[0;34m\u001b[0m\u001b[0;34m\u001b[0m\u001b[0m\n\u001b[1;32m   2007\u001b[0m         \u001b[0margs\u001b[0m\u001b[0;34m,\u001b[0m \u001b[0mtrace_patch\u001b[0m \u001b[0;34m=\u001b[0m \u001b[0mprocess_dataframe_pie\u001b[0m\u001b[0;34m(\u001b[0m\u001b[0margs\u001b[0m\u001b[0;34m,\u001b[0m \u001b[0mtrace_patch\u001b[0m\u001b[0;34m)\u001b[0m\u001b[0;34m\u001b[0m\u001b[0;34m\u001b[0m\u001b[0m\n",
            "\u001b[0;32m/usr/local/lib/python3.10/dist-packages/plotly/express/_core.py\u001b[0m in \u001b[0;36mprocess_dataframe_hierarchy\u001b[0;34m(args)\u001b[0m\n\u001b[1;32m   1574\u001b[0m             \u001b[0mdf\u001b[0m\u001b[0;34m[\u001b[0m\u001b[0margs\u001b[0m\u001b[0;34m[\u001b[0m\u001b[0;34m\"values\"\u001b[0m\u001b[0;34m]\u001b[0m\u001b[0;34m]\u001b[0m \u001b[0;34m=\u001b[0m \u001b[0mpd\u001b[0m\u001b[0;34m.\u001b[0m\u001b[0mto_numeric\u001b[0m\u001b[0;34m(\u001b[0m\u001b[0mdf\u001b[0m\u001b[0;34m[\u001b[0m\u001b[0margs\u001b[0m\u001b[0;34m[\u001b[0m\u001b[0;34m\"values\"\u001b[0m\u001b[0;34m]\u001b[0m\u001b[0;34m]\u001b[0m\u001b[0;34m)\u001b[0m\u001b[0;34m\u001b[0m\u001b[0;34m\u001b[0m\u001b[0m\n\u001b[1;32m   1575\u001b[0m         \u001b[0;32mexcept\u001b[0m \u001b[0mValueError\u001b[0m\u001b[0;34m:\u001b[0m\u001b[0;34m\u001b[0m\u001b[0;34m\u001b[0m\u001b[0m\n\u001b[0;32m-> 1576\u001b[0;31m             raise ValueError(\n\u001b[0m\u001b[1;32m   1577\u001b[0m                 \u001b[0;34m\"Column `%s` of `df` could not be converted to a numerical data type.\"\u001b[0m\u001b[0;34m\u001b[0m\u001b[0;34m\u001b[0m\u001b[0m\n\u001b[1;32m   1578\u001b[0m                 \u001b[0;34m%\u001b[0m \u001b[0margs\u001b[0m\u001b[0;34m[\u001b[0m\u001b[0;34m\"values\"\u001b[0m\u001b[0;34m]\u001b[0m\u001b[0;34m\u001b[0m\u001b[0;34m\u001b[0m\u001b[0m\n",
            "\u001b[0;31mValueError\u001b[0m: Column `seeding matchup` of `df` could not be converted to a numerical data type."
          ]
        }
      ]
    },
    {
      "cell_type": "markdown",
      "source": [
        "ight dr jacob idk what going on. i was able to convert the things into numbers, but idk how to get them to fit back into the graph. i think we are close."
      ],
      "metadata": {
        "id": "-Am782-PwrRO"
      }
    },
    {
      "cell_type": "code",
      "source": [],
      "metadata": {
        "id": "1CLvDErbvNXz"
      },
      "execution_count": null,
      "outputs": []
    }
  ]
}